{
 "cells": [
  {
   "attachments": {},
   "cell_type": "markdown",
   "metadata": {},
   "source": [
    "# Paper report\n",
    "> This report is the equivalent of a final exam for the course."
   ]
  },
  {
   "attachments": {},
   "cell_type": "markdown",
   "metadata": {},
   "source": [
    "\n",
    "The goal of this task is to get used to reading and understanding scientific papers. You will find that the best papers tend to have a clear message, making it easy to understand the motivation and the novelty of the presented work. Thus, the task consists of reading a paper about a relevant topic for the course and writing a report (max 2 pages) explaining it (see the guidelines below). \n",
    "\n",
    "# List of papers\n",
    "Here, we provide a list of high quality papers that have had a significant impact on the field of machine learning and physics. Choose one of them for your report. If you find a paper that you would like to work on outside of this list, ask us! :D\n",
    "\n",
    "::: {.callout-tip}\n",
    "Do not hesitate to look for other high-level resources about the papers, such as blog posts or youtube videos. This is perfectly fine and it may help you understand the technical details. However, be aware that the internet is full of terrible content, so choose your sources carefully!\n",
    ":::\n",
    "\n",
    "Papers about machine learning in physics:\n",
    "\n",
    "- G. Carleo and M. Troyer. [Solving the quantum many-body problem with artificial neural networks](https://www.science.org/doi/abs/10.1126/science.aag2302) (2017).\n",
    "    - The first paper to introduce neural network quantum states.\n",
    "- J. Carrasquilla and R. G. Melko. [Machine learning phases of matter](https://www.nature.com/articles/nphys4035) (2017).\n",
    "    - One of the first works using machine learning to study phase transitions.\n",
    "- G. Torlai, et. al. [Neural network quantum state tomography](https://www.nature.com/articles/s41567-018-0048-5) (2018).\n",
    "    - Pioneering work using generative models for quantum tomography.\n",
    "- R. Iten, et. al. [Discovering physical concepts with neural networks](https://journals.aps.org/prl/abstract/10.1103/PhysRevLett.124.010508) (2020).\n",
    "    - One of the first works to extract physical insight from raw data.\n",
    "\n",
    "Significant advances in the machine learning field:\n",
    "\n",
    "- J. Howard and S. Ruder. [Universal language model fine-tuning for text classification](https://arxiv.org/abs/1801.06146) (2018).\n",
    "    - Paper introducing generative pre-training.\n",
    "- A. Vaswani, et. al. [Attention is all you need](https://proceedings.neurips.cc/paper/2017/hash/3f5ee243547dee91fbd053c1c4a845aa-Abstract.html) (2017).\n",
    "    - The current state of the art model: the transformer.\n",
    "- T. Brown, et. al. [Language Models are Few-Shot Learners](https://papers.nips.cc/paper/2020/hash/1457c0d6bfcb4967418bfb8ac142f64a-Abstract.html) (2020).\n",
    "    - The famous GPT-3 showed how generic language models could accomplish various tasks at once.\n",
    "- I. Sutskever, O. Vinyals, and Q. V. Le. [Sequence to sequence learning with neural networks](https://proceedings.neurips.cc/paper/2014/file/a14ac55a4f27472c5d894ec1c3c743d2-Paper.pdf) (2014).\n",
    "    - (One of) the first paper(s) to introduce seq2seq models to deal with variable sequence lengths.\n",
    "- A. Radford, et. al. [Learning Transferable Visual Models From Natural Language Supervision](http://proceedings.mlr.press/v139/radford21a) (2021).\n",
    "    - CLIP is an essential part of the current diffusion models like DALLE-2\n",
    "\n",
    "Machine learning perspective:\n",
    "\n",
    "- R. Schwartz, et al. [Green AI](https://dl.acm.org/doi/abs/10.1145/3381831) (2020).\n",
    "    - Overview of the cost of machine learning both economically and environmentally.\n",
    "\n",
    "Quantum algorithms:\n",
    "\n",
    "- V. Havlíček, et. al. [Supervised learning with quantum-enhanced feature spaces](https://www.nature.com/articles/s41586-019-0980-2?ref=https://githubhelp.com) (2019).\n",
    "    - The first experimental realization of a quantum classifier.\n",
    "- J. R. McClean, et. al. [The theory of variational hybrid quantum-classical algorithms](https://iopscience.iop.org/article/10.1088/1367-2630/18/2/023023/pdf) (2016).\n",
    "    - Paper laying down the fundamentals of hybrid quantum-classical algorithms that lie at the core of quantum machine learning.\n",
    "\n",
    "::: {.callout-note}\n",
    "Here, we provide the links to the official publications. However, in some cases, you may not be able to access the pdf. Nonetheless, these papers are all accessible on [arXiv](arxiv.org). \n",
    ":::\n",
    "\n",
    "# Guidelines\n",
    "\n",
    "The report should be, at maximum, 2 pages long explaining the paper. As a guideline, it should contain the answer to the following questions:\n",
    "\n",
    "- What is the motivation of the authors?\n",
    "- What are the goals?\n",
    "- What had been done before? What was the state of the art?\n",
    "- Where is the novelty?\n",
    "- Are the results important? In which sense?\n",
    "- Are the results of general interest or just for the specific area?\n",
    "- Is the paper well written, clear, and understandable?"
   ]
  }
 ],
 "metadata": {
  "language_info": {
   "name": "python"
  },
  "orig_nbformat": 4
 },
 "nbformat": 4,
 "nbformat_minor": 2
}
