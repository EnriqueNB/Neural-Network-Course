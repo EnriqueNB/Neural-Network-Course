{
 "cells": [
  {
   "cell_type": "raw",
   "id": "6dda47c5",
   "metadata": {},
   "source": [
    "---\n",
    "skip_showdoc: true\n",
    "---"
   ]
  },
  {
   "cell_type": "markdown",
   "metadata": {},
   "source": [
    "# Data Generation\n",
    "\n",
    "> This module generates different types of data"
   ]
  },
  {
   "cell_type": "code",
   "execution_count": null,
   "metadata": {},
   "outputs": [],
   "source": [
    "#|default_exp data_gen"
   ]
  },
  {
   "cell_type": "code",
   "execution_count": null,
   "metadata": {},
   "outputs": [],
   "source": [
    "#| export\n",
    "import numpy as np"
   ]
  },
  {
   "cell_type": "code",
   "execution_count": null,
   "metadata": {},
   "outputs": [],
   "source": [
    "#| export\n",
    "def line(x:np.ndarray,\n",
    "         a=1.0,#Slope\n",
    "         b=0.5,#Intercept\n",
    "         interval=[-10.,10.],#Interval for x.\n",
    "         noise=[0,1E-5],# Noise [$\\mu$,$\\sigma$] with mean $\\mu$ and standard deviation $\\sigma$\n",
    "         nsamples=100# Number of samples\n",
    "        )-> np.ndarray: # the array $y=ax+b$\n",
    "    '''Create a dataset of nsamples in the interval following the linear regression $y=a x+b$.'''\n",
    "    return a*x+b"
   ]
  },
  {
   "cell_type": "code",
   "execution_count": null,
   "metadata": {},
   "outputs": [],
   "source": [
    "#| export\n",
    "def noisy_line(a=1.0,#Slope\n",
    "               b=0.5,#Intercept\n",
    "               interval=[-10.,10.],#Interval for x.\n",
    "               noise=[0,1E-5],# Noise [$\\mu$,$\\sigma$] with mean $\\mu$ and standard deviation $\\sigma$\n",
    "               nsamples=100# Number of samples\n",
    "              ):\n",
    "    '''\n",
    "    Create a dataset of nsamples in the interval following the linear regression $y=a x+b$ and adds a gaussian noise on y.\n",
    "    \n",
    "    Returns\n",
    "    -------\n",
    "    tuple\n",
    "        - a random x vector in the interval of size nsamples\n",
    "        - the noisy vector following $y= ax+b$\n",
    "    '''\n",
    "    x = np.random.uniform(low=interval[0], high=interval[1], size=nsamples)\n",
    "    mu, sigma = noise\n",
    "    vnoise = np.random.normal(loc=mu, scale=sigma, size=nsamples)\n",
    "    return x, a*x+b+vnoise"
   ]
  },
  {
   "cell_type": "code",
   "execution_count": null,
   "metadata": {},
   "outputs": [],
   "source": [
    "#| export\n",
    "def curve(x, # dataset to be imputed\n",
    "          coeffs, # array of the weights of the polynomial of degree d-1, where d is the size of the array.\n",
    "         )->np.ndarray: #the vector $y=w \\cdot x$\n",
    "    '''Create a vector following the polynomial curve $y=w^Tx$, where $x=(x^0...x^d)$ and  $x=(w^0...w^d)$.'''\n",
    "    ncoeff = len(coeffs)\n",
    "    ex = np.arange(ncoeff)\n",
    "    y=0\n",
    "    for i in range(ncoeff): \n",
    "        y = y+ coeffs[i]* x**ex[i]\n",
    "    return y"
   ]
  },
  {
   "cell_type": "code",
   "execution_count": null,
   "metadata": {},
   "outputs": [],
   "source": [
    "#| export\n",
    "def noisy_curve(coeffs, # array of the weights of the polynomial of degree d-1, where d is the size of the array.\n",
    "                x= None, # dataset to be imputed. if x is `None`, then the dataset is constructed with nsamples from a uniform distribution\n",
    "                interval=[-2,2], # interval for the sampling of x\n",
    "                noise=None, # tuple contining $\\mu$ and $\\sigma$. If  noise is `None`, then there is no noise \n",
    "                nsamples=100 # number of samples for x\n",
    "               ):\n",
    "    '''Create a dataset of nsamples in the interval following the polynomial curve $y=w^Tx$, where $x=(x^0...x^d)$ and  $x=(w^0...w^d)$ and adds a gaussian noise on y.\n",
    "    \n",
    "    Returns\n",
    "    -------\n",
    "    tuple\n",
    "        - a random x vector in the interval of size nsamples\n",
    "        - the noisy vector following $y=w \\cdot x$\n",
    "    '''\n",
    "    if x is None: x = np.random.uniform(low=interval[0], high=interval[1], size=nsamples)  \n",
    "    if noise is None: \n",
    "        vnoise = 0 \n",
    "    else:\n",
    "        mu, sigma = noise\n",
    "        vnoise = np.random.normal(loc=mu, scale=sigma, size=nsamples) \n",
    "    ncoeff = len(coeffs)\n",
    "    ex = np.arange(ncoeff)\n",
    "    y = 0\n",
    "    for i in range(ncoeff): \n",
    "        y = y+ coeffs[i]* x**ex[i]\n",
    "    return x, y+vnoise"
   ]
  },
  {
   "cell_type": "code",
   "execution_count": null,
   "metadata": {},
   "outputs": [],
   "source": [
    "#| hide\n",
    "import nbdev; nbdev.nbdev_export()"
   ]
  }
 ],
 "metadata": {
  "kernelspec": {
   "display_name": "base",
   "language": "python",
   "name": "python3"
  }
 },
 "nbformat": 4,
 "nbformat_minor": 4
}
