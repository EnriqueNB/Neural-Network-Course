{
 "cells": [
  {
   "cell_type": "raw",
   "id": "161261ab",
   "metadata": {},
   "source": [
    "---\n",
    "skip_showdoc: true\n",
    "---"
   ]
  },
  {
   "cell_type": "markdown",
   "id": "2ea5b82b",
   "metadata": {},
   "source": [
    "# Loss functions and gradients\n",
    "\n",
    "> This module contains the loss functions and the gradients"
   ]
  },
  {
   "cell_type": "code",
   "execution_count": null,
   "id": "99fcb4be",
   "metadata": {},
   "outputs": [],
   "source": [
    "#|default_exp losses"
   ]
  },
  {
   "cell_type": "code",
   "execution_count": null,
   "id": "cf6fdcab",
   "metadata": {},
   "outputs": [],
   "source": [
    "#| export\n",
    "import numpy as np\n",
    "from lectures_ml.data_gen import curve"
   ]
  },
  {
   "cell_type": "markdown",
   "id": "decceb40",
   "metadata": {},
   "source": [
    "## Loss function "
   ]
  },
  {
   "cell_type": "code",
   "execution_count": null,
   "id": "173083fc",
   "metadata": {},
   "outputs": [],
   "source": [
    "#| export\n",
    "def MSE(x:np.ndarray, # x data of N elements\n",
    "        y:np.ndarray, # y data of N elements\n",
    "        fun:callable, # function $y=f(x)$\n",
    "        params=None, # Parameters of the function in the form of a dictionary\n",
    "       )->float:\n",
    "    '''Given the data $x$ and $y$, this function computes the mean square error between $y$ and $y'=f(x)$'''\n",
    "    yp = fun(x) if params is None else fun(x,**params)\n",
    "    MSE = np.mean((y-yp)**2)\n",
    "    return MSE"
   ]
  },
  {
   "cell_type": "markdown",
   "id": "25ff259a",
   "metadata": {},
   "source": [
    "The mean square error is defined as \n",
    "$$ MSE(y,y')=\\frac{1}{N}\\sum_{i=1}^{N}(y'_i-y_i)^2.$$"
   ]
  },
  {
   "cell_type": "code",
   "execution_count": null,
   "id": "bde3dacc",
   "metadata": {},
   "outputs": [],
   "source": [
    "#| export\n",
    "def grad_MSE_lr(x:np.ndarray, # x data of N elements\n",
    "                y:np.ndarray, # y data of N elements\n",
    "                params: dict, # Parameters of the function\n",
    "            )-> np.ndarray: # gradients\n",
    "    '''Computes the gradient of the mean square error loss function with respect to $a$ and $b$ and returns np.array([$\\partial_a$ MSE,$\\partial_b$ MSE])'''\n",
    "    a, b = params['a'], params['b']\n",
    "    yp = a*x+b\n",
    "    ga, gb = np.mean(2*x*(yp-y)), np.mean(2*(yp-y))\n",
    "    return np.array([ga,gb])"
   ]
  },
  {
   "cell_type": "code",
   "execution_count": null,
   "id": "aad291f3",
   "metadata": {},
   "outputs": [],
   "source": [
    "#| export\n",
    "def grad_MSE_pr(x:np.ndarray, # x data of N elements\n",
    "                y:np.ndarray, # y data of N elements\n",
    "                params: dict, # parameters of the function\n",
    "            )-> np.ndarray: # gradients\n",
    "    '''Computes the gradient of the mean square error loss function with respect to $a$ and $b$ and returns np.array([$\\partial_a$ MSE,$\\partial_b$ MSE])'''\n",
    "    coeffs = params['coeffs']\n",
    "    yp = curve(x, **params)\n",
    "    ll = -2*(y-yp)\n",
    "    g = []\n",
    "    for i in range(len(coeffs)):\n",
    "        g.append(np.mean(ll*x**i))\n",
    "    return [np.array(g)]"
   ]
  },
  {
   "cell_type": "code",
   "execution_count": null,
   "id": "a68e4865",
   "metadata": {},
   "outputs": [],
   "source": [
    "#| export\n",
    "def BCE(x:np.ndarray, # x data of N elements\n",
    "        y:np.ndarray, # y data of N elements\n",
    "        fun:callable, # function $y=f(x)$\n",
    "        params: dict # Parameters of the function\n",
    "       )->float:\n",
    "    '''Given the data $x$ and $y$, this function computes the mean binary cross entropy $y$ and $y'=f(x)$'''\n",
    "    yp = fun(x) if params is None else fun(x,**params)\n",
    "    l = y*np.log(yp) + (1-y)*np.log(1-yp)\n",
    "    return -np.mean(l)"
   ]
  },
  {
   "cell_type": "code",
   "execution_count": null,
   "id": "d6d0f94f",
   "metadata": {},
   "outputs": [],
   "source": [
    "#| export\n",
    "def grad_BCE(x:np.ndarray, # x data of N elements\n",
    "             y:np.ndarray, # y data of N elements\n",
    "             params: dict, # Parameters of the function\n",
    "            )-> np.ndarray: # gradients\n",
    "    '''Computes the gradient of the binary cross entropy loss function with respect to $a$ and $b$ and returns np.array([$\\partial_a$ BCE,$\\partial_b$ BCE])'''\n",
    "    def sigmoid(x,a,b):\n",
    "        return 1/(1 + np.exp(-(a*x+b)))\n",
    "    a, b = params['a'], params['b']\n",
    "    yp = sigmoid(x, a, b)\n",
    "    ga, gb = np.mean((yp-y)*x), np.mean((yp-y))\n",
    "    return np.array([ga,gb])"
   ]
  },
  {
   "cell_type": "code",
   "execution_count": null,
   "id": "c402e6dc",
   "metadata": {},
   "outputs": [],
   "source": [
    "#| export\n",
    "def L_per(x:np.ndarray, # x data of N elements\n",
    "       y:np.ndarray, # y data of N elements\n",
    "       fun:callable, # function $y=f(x)$\n",
    "       params: dict # Parameters of the function\n",
    "      )->float:\n",
    "    '''Given the data $x$ and $y$, this function computes the Loss of the perceptron algorithm'''\n",
    "    l = -fun(x,**params)*y\n",
    "    ll = np.heaviside(l,0)\n",
    "    ll = np.mean(ll*l)\n",
    "    return ll"
   ]
  },
  {
   "cell_type": "code",
   "execution_count": null,
   "id": "0820d13e",
   "metadata": {},
   "outputs": [],
   "source": [
    "#| export\n",
    "def grad_per(x:np.ndarray, # x data of N elements\n",
    "             y:np.ndarray, # y data of N elements\n",
    "             params: dict, # Parameters of the function\n",
    "            )-> np.ndarray: # gradients\n",
    "    '''Computes the gradient of the perceptron loss function and returns `np.array(grad_w)`'''\n",
    "    w = params['w']\n",
    "    l = -(w[0]+x@w[1:])*y\n",
    "    ll = np.heaviside(l,0)\n",
    "    xx,yy = np.copy(x), np.copy(y)\n",
    "    yy= yy*ll\n",
    "    xx[:,0], xx[:,1] = xx[:,0]*yy, xx[:,1]*yy \n",
    "    gradw0 = -np.mean(yy)\n",
    "    gradw = -np.mean(xx,axis=0)\n",
    "    return [np.concatenate([[gradw0],gradw])]"
   ]
  },
  {
   "cell_type": "code",
   "execution_count": null,
   "id": "f55641aa",
   "metadata": {},
   "outputs": [],
   "source": [
    "#| hide\n",
    "import nbdev; nbdev.nbdev_export()"
   ]
  },
  {
   "cell_type": "code",
   "execution_count": null,
   "id": "1031fbd2",
   "metadata": {},
   "outputs": [],
   "source": []
  }
 ],
 "metadata": {
  "kernelspec": {
   "display_name": "Python 3 (ipykernel)",
   "language": "python",
   "name": "python3"
  }
 },
 "nbformat": 4,
 "nbformat_minor": 5
}
